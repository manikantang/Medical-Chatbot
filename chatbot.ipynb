{
 "cells": [
  {
   "cell_type": "code",
   "execution_count": 1,
   "id": "58e4ebab",
   "metadata": {},
   "outputs": [],
   "source": [
    "# Import necessary libraries\n",
    "import pandas as pd\n",
    "import json\n",
    "import re"
   ]
  },
  {
   "cell_type": "code",
   "execution_count": 2,
   "id": "d82c49ed",
   "metadata": {},
   "outputs": [],
   "source": [
    "#Load MedQuAD dataset\n",
    "medquad_df = pd.read_csv(\"/Users/manikantang/Documents/Medical Chatbot/medquad.csv\")\n",
    "disease_df = pd.read_csv(\"/Users/manikantang/Documents/Medical Chatbot/DiseaseAndSymptoms.csv\")\n",
    "precaution_df = pd.read_csv(\"/Users/manikantang/Documents/Medical Chatbot/Disease precaution.csv\")"
   ]
  },
  {
   "cell_type": "code",
   "execution_count": 3,
   "id": "df9eabc0",
   "metadata": {},
   "outputs": [],
   "source": [
    "#Clean column names\n",
    "medquad_df.columns=[col.strip().lower().replace(\" \", \"_\") for col in medquad_df.columns]\n",
    "disease_df.columns = [col.strip().lower().replace(\" \", \"_\") for col in disease_df.columns]\n",
    "precaution_df.columns = [col.strip().lower().replace(\" \", \"_\") for col in precaution_df.columns]"
   ]
  },
  {
   "cell_type": "code",
   "execution_count": 4,
   "id": "38975cbc",
   "metadata": {},
   "outputs": [],
   "source": [
    "medquad_df.rename(columns={\"Q_Text\": \"question\", \"A_Text\": \"answer\"}, inplace=True)"
   ]
  },
  {
   "cell_type": "code",
   "execution_count": 5,
   "id": "cbc864e9",
   "metadata": {},
   "outputs": [],
   "source": [
    "#Define basic keyword matching function for MedQuAD\n",
    "def search_medquad(query):\n",
    "    pattern = re.compile(query, re.IGNORECASE)\n",
    "    results = medquad_df[medquad_df['question'].str.contains(pattern)]\n",
    "    return results[['question', 'answer']].head(3)"
   ]
  },
  {
   "cell_type": "code",
   "execution_count": 6,
   "id": "5096bb94",
   "metadata": {},
   "outputs": [],
   "source": [
    "def match_disease(symptom_query):\n",
    "    matched_diseases = []\n",
    "    \n",
    "    for _, row in disease_df.iterrows():\n",
    "        symptoms = ' '.join([\n",
    "            str(row[col]) for col in disease_df.columns\n",
    "            if 'symptom' in col.lower() and pd.notna(row[col])\n",
    "        ]).lower()\n",
    "        \n",
    "        if any(symptom in symptoms for symptom in symptom_query.lower().split()):\n",
    "            matched_diseases.append(row['disease'])\n",
    "    \n",
    "    matched_diseases = list(set(matched_diseases))[:3]  # Top 3\n",
    "    output = []\n",
    "    \n",
    "    for disease in matched_diseases:\n",
    "        precautions = precaution_df[precaution_df['disease'].str.lower() == disease.lower()]\n",
    "        output.append({\n",
    "            \"Disease\": disease,\n",
    "            \"Precautions\": precautions.iloc[0, 1:].dropna().tolist() if not precautions.empty else [\"No data\"]\n",
    "        })\n",
    "    \n",
    "    return output\n"
   ]
  },
  {
   "cell_type": "code",
   "execution_count": 7,
   "id": "1d743559",
   "metadata": {},
   "outputs": [],
   "source": [
    "#Sample user query\n",
    "user_input = input(\"Hi! Please describe your issue or ask a question: \")"
   ]
  },
  {
   "cell_type": "code",
   "execution_count": 8,
   "id": "651f5c84",
   "metadata": {},
   "outputs": [
    {
     "name": "stdout",
     "output_type": "stream",
     "text": [
      "\n",
      "--- Symptom-Based Disease Match ---\n",
      "\n",
      "Possible Disease: Hyperthyroidism\n",
      "Precautions: eat healthy, massage, use lemon balm, take radioactive iodine treatment\n",
      "\n",
      "Possible Disease: Migraine\n",
      "Precautions: meditation, reduce stress, use poloroid glasses in sun, consult doctor\n",
      "\n",
      "Possible Disease: hepatitis A\n",
      "Precautions: Consult nearest hospital, wash hands through, avoid fatty spicy food, medication\n"
     ]
    }
   ],
   "source": [
    "#Basic decision routing\n",
    "if any(word in user_input.lower() for word in ['what', 'why', 'how', 'can', 'does']):\n",
    "    print(\"\\n--- MedQuAD Answer(s) ---\")\n",
    "    answers = search_medquad(user_input)\n",
    "    if answers.empty:\n",
    "        print(\"No exact match found in MedQuAD.\")\n",
    "    else:\n",
    "        for _, row in answers.iterrows():\n",
    "            print(f\"Q: {row['question']}\\nA: {row['answer']}\\n\")\n",
    "else:\n",
    "    print(\"\\n--- Symptom-Based Disease Match ---\")\n",
    "    matches = match_disease(user_input)\n",
    "    if not matches:\n",
    "        print(\"Could you please rephrase or provide a more detailed explanation of the symptoms.\")\n",
    "    else:\n",
    "        for m in matches:\n",
    "            print(f\"\\nPossible Disease: {m['Disease']}\")\n",
    "            print(\"Precautions:\", \", \".join(m[\"Precautions\"]))"
   ]
  }
 ],
 "metadata": {
  "kernelspec": {
   "display_name": "Python 3",
   "language": "python",
   "name": "python3"
  },
  "language_info": {
   "codemirror_mode": {
    "name": "ipython",
    "version": 3
   },
   "file_extension": ".py",
   "mimetype": "text/x-python",
   "name": "python",
   "nbconvert_exporter": "python",
   "pygments_lexer": "ipython3",
   "version": "3.11.3"
  }
 },
 "nbformat": 4,
 "nbformat_minor": 5
}
